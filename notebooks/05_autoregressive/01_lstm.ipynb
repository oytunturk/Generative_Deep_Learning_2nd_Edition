{
  "cells": [
    {
      "cell_type": "markdown",
      "id": "b076bd1a-b236-4fbc-953d-8295b25122ae",
      "metadata": {
        "id": "b076bd1a-b236-4fbc-953d-8295b25122ae"
      },
      "source": [
        "# 🥙 LSTM on Recipe Data"
      ]
    },
    {
      "cell_type": "markdown",
      "id": "658a95da-9645-4bcf-bd9d-4b95a4b6f582",
      "metadata": {
        "id": "658a95da-9645-4bcf-bd9d-4b95a4b6f582"
      },
      "source": [
        "In this notebook, we'll walk through the steps required to train your own LSTM on the recipes dataset"
      ]
    },
    {
      "cell_type": "code",
      "source": [
        "# Load the Drive helper and mount\n",
        "from google.colab import drive\n",
        "drive.mount('/content/drive')\n",
        "%cd /content/drive/MyDrive/generative"
      ],
      "metadata": {
        "id": "ZrP7MGD97v4b",
        "outputId": "9bccf420-2592-4d69-a29c-c871bddd8e59",
        "colab": {
          "base_uri": "https://localhost:8080/"
        }
      },
      "id": "ZrP7MGD97v4b",
      "execution_count": 1,
      "outputs": [
        {
          "output_type": "stream",
          "name": "stdout",
          "text": [
            "Mounted at /content/drive\n",
            "/content/drive/MyDrive/generative\n"
          ]
        }
      ]
    },
    {
      "cell_type": "code",
      "source": [
        "# Download database from Kaggle\n",
        "import os\n",
        "os.environ['KAGGLE_CONFIG_DIR'] = \"/content/drive/MyDrive/generative/data/epirecipes\"\n",
        "!mkdir -p /content/drive/MyDrive/generative/data/epirecipes\n",
        "%cd /content/drive/MyDrive/generative/data/epirecipes\n",
        "%ls -l\n",
        "#!kaggle datasets download -d hugodarwood/epirecipes --unzip --force\n",
        "%ls -l\n",
        "%cd /content/drive/MyDrive/generative"
      ],
      "metadata": {
        "id": "HWlXWn1O7y5R",
        "outputId": "f6436d36-4b60-46b0-933c-364c68ab5b3c",
        "colab": {
          "base_uri": "https://localhost:8080/"
        }
      },
      "id": "HWlXWn1O7y5R",
      "execution_count": 2,
      "outputs": [
        {
          "output_type": "stream",
          "name": "stdout",
          "text": [
            "/content/drive/MyDrive/generative/data/epirecipes\n",
            "total 88389\n",
            "-rw------- 1 root root 55252032 Feb 18 20:39 epi_r.csv\n",
            "-rw------- 1 root root 35249903 Feb 18 20:39 full_format_recipes.json\n",
            "-rw------- 1 root root       65 Feb 18 20:38 kaggle.json\n",
            "-rw------- 1 root root     5122 Feb 18 20:39 recipe.py\n",
            "-rw------- 1 root root     1227 Feb 18 20:39 utils.py\n",
            "total 88389\n",
            "-rw------- 1 root root 55252032 Feb 18 20:39 epi_r.csv\n",
            "-rw------- 1 root root 35249903 Feb 18 20:39 full_format_recipes.json\n",
            "-rw------- 1 root root       65 Feb 18 20:38 kaggle.json\n",
            "-rw------- 1 root root     5122 Feb 18 20:39 recipe.py\n",
            "-rw------- 1 root root     1227 Feb 18 20:39 utils.py\n",
            "/content/drive/MyDrive/generative\n"
          ]
        }
      ]
    },
    {
      "cell_type": "code",
      "execution_count": 3,
      "id": "4e0d56cc-4773-4029-97d8-26f882ba79c9",
      "metadata": {
        "id": "4e0d56cc-4773-4029-97d8-26f882ba79c9"
      },
      "outputs": [],
      "source": [
        "%load_ext autoreload\n",
        "%autoreload 2\n",
        "\n",
        "import numpy as np\n",
        "import json\n",
        "import re\n",
        "import string\n",
        "\n",
        "import tensorflow as tf\n",
        "from tensorflow.keras import layers, models, callbacks, losses"
      ]
    },
    {
      "cell_type": "markdown",
      "id": "339e6268-ebd7-4feb-86db-1fe7abccdbe5",
      "metadata": {
        "id": "339e6268-ebd7-4feb-86db-1fe7abccdbe5"
      },
      "source": [
        "## 0. Parameters <a name=\"parameters\"></a>"
      ]
    },
    {
      "cell_type": "code",
      "execution_count": 4,
      "id": "2d8352af-343e-4c2e-8c91-95f8bac1c8a1",
      "metadata": {
        "id": "2d8352af-343e-4c2e-8c91-95f8bac1c8a1"
      },
      "outputs": [],
      "source": [
        "VOCAB_SIZE = 10000\n",
        "MAX_LEN = 200\n",
        "EMBEDDING_DIM = 100\n",
        "N_UNITS = 128\n",
        "VALIDATION_SPLIT = 0.2\n",
        "SEED = 42\n",
        "LOAD_MODEL = False\n",
        "BATCH_SIZE = 32\n",
        "EPOCHS = 25"
      ]
    },
    {
      "cell_type": "markdown",
      "id": "b7716fac-0010-49b0-b98e-53be2259edde",
      "metadata": {
        "id": "b7716fac-0010-49b0-b98e-53be2259edde"
      },
      "source": [
        "## 1. Load the data <a name=\"load\"></a>"
      ]
    },
    {
      "cell_type": "code",
      "execution_count": 5,
      "id": "93cf6b0f-9667-4146-8911-763a8a2925d3",
      "metadata": {
        "tags": [],
        "id": "93cf6b0f-9667-4146-8911-763a8a2925d3"
      },
      "outputs": [],
      "source": [
        "# Load the full dataset\n",
        "with open(\"data/epirecipes/full_format_recipes.json\") as json_data:\n",
        "    recipe_data = json.load(json_data)"
      ]
    },
    {
      "cell_type": "code",
      "execution_count": 6,
      "id": "23a74eca-f1b7-4a46-9a1f-b5806a4ed361",
      "metadata": {
        "tags": [],
        "id": "23a74eca-f1b7-4a46-9a1f-b5806a4ed361"
      },
      "outputs": [],
      "source": [
        "# Filter the dataset\n",
        "filtered_data = [\n",
        "    \"Recipe for \" + x[\"title\"] + \" | \" + \" \".join(x[\"directions\"])\n",
        "    for x in recipe_data\n",
        "    if \"title\" in x\n",
        "    and x[\"title\"] is not None\n",
        "    and \"directions\" in x\n",
        "    and x[\"directions\"] is not None\n",
        "]"
      ]
    },
    {
      "cell_type": "code",
      "execution_count": 7,
      "id": "389c20de-0422-4c48-a7b4-6ee12a7bf0e2",
      "metadata": {
        "tags": [],
        "id": "389c20de-0422-4c48-a7b4-6ee12a7bf0e2",
        "outputId": "a9bcd1c5-ecc3-4628-cf6c-a16b6c804237",
        "colab": {
          "base_uri": "https://localhost:8080/"
        }
      },
      "outputs": [
        {
          "output_type": "stream",
          "name": "stdout",
          "text": [
            "20111 recipes loaded\n"
          ]
        }
      ],
      "source": [
        "# Count the recipes\n",
        "n_recipes = len(filtered_data)\n",
        "print(f\"{n_recipes} recipes loaded\")"
      ]
    },
    {
      "cell_type": "code",
      "execution_count": 8,
      "id": "1b2e3cf7-e416-460e-874a-0dd9637bca36",
      "metadata": {
        "id": "1b2e3cf7-e416-460e-874a-0dd9637bca36",
        "outputId": "ce4b8613-6686-4256-e526-e56279c579cd",
        "colab": {
          "base_uri": "https://localhost:8080/"
        }
      },
      "outputs": [
        {
          "output_type": "stream",
          "name": "stdout",
          "text": [
            "Recipe for Ham Persillade with Mustard Potato Salad and Mashed Peas  | Chop enough parsley leaves to measure 1 tablespoon; reserve. Chop remaining leaves and stems and simmer with broth and garlic in a small saucepan, covered, 5 minutes. Meanwhile, sprinkle gelatin over water in a medium bowl and let soften 1 minute. Strain broth through a fine-mesh sieve into bowl with gelatin and stir to dissolve. Season with salt and pepper. Set bowl in an ice bath and cool to room temperature, stirring. Toss ham with reserved parsley and divide among jars. Pour gelatin on top and chill until set, at least 1 hour. Whisk together mayonnaise, mustard, vinegar, 1/4 teaspoon salt, and 1/4 teaspoon pepper in a large bowl. Stir in celery, cornichons, and potatoes. Pulse peas with marjoram, oil, 1/2 teaspoon pepper, and 1/4 teaspoon salt in a food processor to a coarse mash. Layer peas, then potato salad, over ham.\n"
          ]
        }
      ],
      "source": [
        "example = filtered_data[9]\n",
        "print(example)"
      ]
    },
    {
      "cell_type": "markdown",
      "id": "3f871aaf-d873-41c7-8946-e4eef7ac17c1",
      "metadata": {
        "id": "3f871aaf-d873-41c7-8946-e4eef7ac17c1"
      },
      "source": [
        "## 2. Tokenise the data"
      ]
    },
    {
      "cell_type": "code",
      "execution_count": 9,
      "id": "5b2064fb-5dcc-4657-b470-0928d10e2ddc",
      "metadata": {
        "tags": [],
        "id": "5b2064fb-5dcc-4657-b470-0928d10e2ddc"
      },
      "outputs": [],
      "source": [
        "# Pad the punctuation, to treat them as separate 'words'\n",
        "def pad_punctuation(s):\n",
        "    s = re.sub(f\"([{string.punctuation}])\", r\" \\1 \", s)\n",
        "    s = re.sub(\" +\", \" \", s)\n",
        "    return s\n",
        "\n",
        "\n",
        "text_data = [pad_punctuation(x) for x in filtered_data]"
      ]
    },
    {
      "cell_type": "code",
      "execution_count": 10,
      "id": "b87d7c65-9a46-492a-a5c0-a043b0d252f3",
      "metadata": {
        "id": "b87d7c65-9a46-492a-a5c0-a043b0d252f3",
        "outputId": "909136d3-2fea-420c-e596-b6ceadc1e280",
        "colab": {
          "base_uri": "https://localhost:8080/",
          "height": 143
        }
      },
      "outputs": [
        {
          "output_type": "execute_result",
          "data": {
            "text/plain": [
              "'Recipe for Ham Persillade with Mustard Potato Salad and Mashed Peas | Chop enough parsley leaves to measure 1 tablespoon ; reserve . Chop remaining leaves and stems and simmer with broth and garlic in a small saucepan , covered , 5 minutes . Meanwhile , sprinkle gelatin over water in a medium bowl and let soften 1 minute . Strain broth through a fine - mesh sieve into bowl with gelatin and stir to dissolve . Season with salt and pepper . Set bowl in an ice bath and cool to room temperature , stirring . Toss ham with reserved parsley and divide among jars . Pour gelatin on top and chill until set , at least 1 hour . Whisk together mayonnaise , mustard , vinegar , 1 / 4 teaspoon salt , and 1 / 4 teaspoon pepper in a large bowl . Stir in celery , cornichons , and potatoes . Pulse peas with marjoram , oil , 1 / 2 teaspoon pepper , and 1 / 4 teaspoon salt in a food processor to a coarse mash . Layer peas , then potato salad , over ham . '"
            ],
            "application/vnd.google.colaboratory.intrinsic+json": {
              "type": "string"
            }
          },
          "metadata": {},
          "execution_count": 10
        }
      ],
      "source": [
        "# Display an example of a recipe\n",
        "example_data = text_data[9]\n",
        "example_data"
      ]
    },
    {
      "cell_type": "code",
      "execution_count": 11,
      "id": "9834f916-b21a-4104-acc9-f28d3bd7a8c1",
      "metadata": {
        "tags": [],
        "id": "9834f916-b21a-4104-acc9-f28d3bd7a8c1"
      },
      "outputs": [],
      "source": [
        "# Convert to a Tensorflow Dataset\n",
        "text_ds = (\n",
        "    tf.data.Dataset.from_tensor_slices(text_data)\n",
        "    .batch(BATCH_SIZE)\n",
        "    .shuffle(1000)\n",
        ")"
      ]
    },
    {
      "cell_type": "code",
      "execution_count": 12,
      "id": "884c0bcb-0807-45a1-8f7e-a32f2c6fa4de",
      "metadata": {
        "id": "884c0bcb-0807-45a1-8f7e-a32f2c6fa4de"
      },
      "outputs": [],
      "source": [
        "# Create a vectorisation layer\n",
        "vectorize_layer = layers.TextVectorization(\n",
        "    standardize=\"lower\",\n",
        "    max_tokens=VOCAB_SIZE,\n",
        "    output_mode=\"int\",\n",
        "    output_sequence_length=MAX_LEN + 1,\n",
        ")"
      ]
    },
    {
      "cell_type": "code",
      "execution_count": 13,
      "id": "4d6dd34a-d905-497b-926a-405380ebcf98",
      "metadata": {
        "id": "4d6dd34a-d905-497b-926a-405380ebcf98"
      },
      "outputs": [],
      "source": [
        "# Adapt the layer to the training set\n",
        "vectorize_layer.adapt(text_ds)\n",
        "vocab = vectorize_layer.get_vocabulary()"
      ]
    },
    {
      "cell_type": "code",
      "execution_count": 14,
      "id": "f6c1c7ce-3cf0-40d4-a3dc-ab7090f69f2f",
      "metadata": {
        "id": "f6c1c7ce-3cf0-40d4-a3dc-ab7090f69f2f",
        "outputId": "322d307a-c6a6-4461-86ba-c42f6de2468a",
        "colab": {
          "base_uri": "https://localhost:8080/"
        }
      },
      "outputs": [
        {
          "output_type": "stream",
          "name": "stdout",
          "text": [
            "0: \n",
            "1: [UNK]\n",
            "2: .\n",
            "3: ,\n",
            "4: and\n",
            "5: to\n",
            "6: in\n",
            "7: the\n",
            "8: with\n",
            "9: a\n"
          ]
        }
      ],
      "source": [
        "# Display some token:word mappings\n",
        "for i, word in enumerate(vocab[:10]):\n",
        "    print(f\"{i}: {word}\")"
      ]
    },
    {
      "cell_type": "code",
      "execution_count": 15,
      "id": "1cc30186-7ec6-4eb6-b29a-65df6714d321",
      "metadata": {
        "id": "1cc30186-7ec6-4eb6-b29a-65df6714d321",
        "outputId": "b2dfa1b1-1d9f-4978-cfc8-816968bc68d0",
        "colab": {
          "base_uri": "https://localhost:8080/"
        }
      },
      "outputs": [
        {
          "output_type": "stream",
          "name": "stdout",
          "text": [
            "[  26   16  557    1    8  298  335  189    4 1054  494   27  332  228\n",
            "  235  262    5  594   11  133   22  311    2  332   45  262    4  671\n",
            "    4   70    8  171    4   81    6    9   65   80    3  121    3   59\n",
            "   12    2  299    3   88  650   20   39    6    9   29   21    4   67\n",
            "  529   11  164    2  320  171  102    9  374   13  643  306   25   21\n",
            "    8  650    4   42    5  931    2   63    8   24    4   33    2  114\n",
            "   21    6  178  181 1245    4   60    5  140  112    3   48    2  117\n",
            "  557    8  285  235    4  200  292  980    2  107  650   28   72    4\n",
            "  108   10  114    3   57  204   11  172    2   73  110  482    3  298\n",
            "    3  190    3   11   23   32  142   24    3    4   11   23   32  142\n",
            "   33    6    9   30   21    2   42    6  353    3 3224    3    4  150\n",
            "    2  437  494    8 1281    3   37    3   11   23   15  142   33    3\n",
            "    4   11   23   32  142   24    6    9  291  188    5    9  412  572\n",
            "    2  230  494    3   46  335  189    3   20  557    2    0    0    0\n",
            "    0    0    0    0    0]\n"
          ]
        }
      ],
      "source": [
        "# Display the same example converted to ints\n",
        "example_tokenised = vectorize_layer(example_data)\n",
        "print(example_tokenised.numpy())"
      ]
    },
    {
      "cell_type": "markdown",
      "id": "8c195efb-84c6-4be0-a989-a7542188ad35",
      "metadata": {
        "id": "8c195efb-84c6-4be0-a989-a7542188ad35"
      },
      "source": [
        "## 3. Create the Training Set"
      ]
    },
    {
      "cell_type": "code",
      "execution_count": 16,
      "id": "740294a1-1a6b-4c89-92f2-036d7d1b788b",
      "metadata": {
        "id": "740294a1-1a6b-4c89-92f2-036d7d1b788b"
      },
      "outputs": [],
      "source": [
        "# Create the training set of recipes and the same text shifted by one word\n",
        "def prepare_inputs(text):\n",
        "    text = tf.expand_dims(text, -1)\n",
        "    tokenized_sentences = vectorize_layer(text)\n",
        "    x = tokenized_sentences[:, :-1]\n",
        "    y = tokenized_sentences[:, 1:]\n",
        "    return x, y\n",
        "\n",
        "\n",
        "train_ds = text_ds.map(prepare_inputs)"
      ]
    },
    {
      "cell_type": "markdown",
      "id": "aff50401-3abe-4c10-bba8-b35bc13ad7d5",
      "metadata": {
        "tags": [],
        "id": "aff50401-3abe-4c10-bba8-b35bc13ad7d5"
      },
      "source": [
        "## 4. Build the LSTM <a name=\"build\"></a>"
      ]
    },
    {
      "cell_type": "code",
      "execution_count": 17,
      "id": "9230b5bf-b4a8-48d5-b73b-6899a598f296",
      "metadata": {
        "id": "9230b5bf-b4a8-48d5-b73b-6899a598f296",
        "outputId": "c05fc026-d9e9-45ed-9016-30e07ee32826",
        "colab": {
          "base_uri": "https://localhost:8080/"
        }
      },
      "outputs": [
        {
          "output_type": "stream",
          "name": "stdout",
          "text": [
            "Model: \"model\"\n",
            "_________________________________________________________________\n",
            " Layer (type)                Output Shape              Param #   \n",
            "=================================================================\n",
            " input_1 (InputLayer)        [(None, None)]            0         \n",
            "                                                                 \n",
            " embedding (Embedding)       (None, None, 100)         1000000   \n",
            "                                                                 \n",
            " lstm (LSTM)                 (None, None, 128)         117248    \n",
            "                                                                 \n",
            " dense (Dense)               (None, None, 10000)       1290000   \n",
            "                                                                 \n",
            "=================================================================\n",
            "Total params: 2407248 (9.18 MB)\n",
            "Trainable params: 2407248 (9.18 MB)\n",
            "Non-trainable params: 0 (0.00 Byte)\n",
            "_________________________________________________________________\n"
          ]
        }
      ],
      "source": [
        "inputs = layers.Input(shape=(None,), dtype=\"int32\")\n",
        "x = layers.Embedding(VOCAB_SIZE, EMBEDDING_DIM)(inputs)\n",
        "x = layers.LSTM(N_UNITS, return_sequences=True)(x)\n",
        "outputs = layers.Dense(VOCAB_SIZE, activation=\"softmax\")(x)\n",
        "lstm = models.Model(inputs, outputs)\n",
        "lstm.summary()"
      ]
    },
    {
      "cell_type": "code",
      "execution_count": 18,
      "id": "800a3c6e-fb11-4792-b6bc-9a43a7c977ad",
      "metadata": {
        "tags": [],
        "id": "800a3c6e-fb11-4792-b6bc-9a43a7c977ad"
      },
      "outputs": [],
      "source": [
        "if LOAD_MODEL:\n",
        "    # model.load_weights('./models/model')\n",
        "    lstm = models.load_model(\"./models/lstm\", compile=False)"
      ]
    },
    {
      "cell_type": "markdown",
      "id": "35b14665-4359-447b-be58-3fd58ba69084",
      "metadata": {
        "id": "35b14665-4359-447b-be58-3fd58ba69084"
      },
      "source": [
        "## 5. Train the LSTM <a name=\"train\"></a>"
      ]
    },
    {
      "cell_type": "code",
      "execution_count": 19,
      "id": "ffb1bd3b-6fd9-4536-973e-6375bbcbf16d",
      "metadata": {
        "id": "ffb1bd3b-6fd9-4536-973e-6375bbcbf16d"
      },
      "outputs": [],
      "source": [
        "loss_fn = losses.SparseCategoricalCrossentropy()\n",
        "lstm.compile(\"adam\", loss_fn)"
      ]
    },
    {
      "cell_type": "code",
      "execution_count": 20,
      "id": "3ddcff5f-829d-4449-99d2-9a3cb68f7d72",
      "metadata": {
        "id": "3ddcff5f-829d-4449-99d2-9a3cb68f7d72"
      },
      "outputs": [],
      "source": [
        "# Create a TextGenerator checkpoint\n",
        "class TextGenerator(callbacks.Callback):\n",
        "    def __init__(self, index_to_word, top_k=10):\n",
        "        self.index_to_word = index_to_word\n",
        "        self.word_to_index = {\n",
        "            word: index for index, word in enumerate(index_to_word)\n",
        "        }  # <1>\n",
        "\n",
        "    def sample_from(self, probs, temperature):  # <2>\n",
        "        probs = probs ** (1 / temperature)\n",
        "        probs = probs / np.sum(probs)\n",
        "        return np.random.choice(len(probs), p=probs), probs\n",
        "\n",
        "    def generate(self, start_prompt, max_tokens, temperature):\n",
        "        start_tokens = [\n",
        "            self.word_to_index.get(x, 1) for x in start_prompt.split()\n",
        "        ]  # <3>\n",
        "        sample_token = None\n",
        "        info = []\n",
        "        while len(start_tokens) < max_tokens and sample_token != 0:  # <4>\n",
        "            x = np.array([start_tokens])\n",
        "            y = self.model.predict(x, verbose=0)  # <5>\n",
        "            sample_token, probs = self.sample_from(y[0][-1], temperature)  # <6>\n",
        "            info.append({\"prompt\": start_prompt, \"word_probs\": probs})\n",
        "            start_tokens.append(sample_token)  # <7>\n",
        "            start_prompt = start_prompt + \" \" + self.index_to_word[sample_token]\n",
        "        print(f\"\\ngenerated text:\\n{start_prompt}\\n\")\n",
        "        return info\n",
        "\n",
        "    def on_epoch_end(self, epoch, logs=None):\n",
        "        self.generate(\"recipe for\", max_tokens=100, temperature=1.0)"
      ]
    },
    {
      "cell_type": "code",
      "execution_count": 21,
      "id": "349865fe-ffbe-450e-97be-043ae1740e78",
      "metadata": {
        "id": "349865fe-ffbe-450e-97be-043ae1740e78"
      },
      "outputs": [],
      "source": [
        "# Create a model save checkpoint\n",
        "model_checkpoint_callback = callbacks.ModelCheckpoint(\n",
        "    filepath=\"./checkpoint/checkpoint.ckpt\",\n",
        "    save_weights_only=True,\n",
        "    save_freq=\"epoch\",\n",
        "    verbose=0,\n",
        ")\n",
        "\n",
        "tensorboard_callback = callbacks.TensorBoard(log_dir=\"./logs\")\n",
        "\n",
        "# Tokenize starting prompt\n",
        "text_generator = TextGenerator(vocab)"
      ]
    },
    {
      "cell_type": "code",
      "execution_count": 22,
      "id": "461c2b3e-b5ae-4def-8bd9-e7bab8c63d8e",
      "metadata": {
        "tags": [],
        "id": "461c2b3e-b5ae-4def-8bd9-e7bab8c63d8e",
        "outputId": "61d534e8-fcd1-480f-9b64-908b76053c37",
        "colab": {
          "base_uri": "https://localhost:8080/"
        }
      },
      "outputs": [
        {
          "output_type": "stream",
          "name": "stdout",
          "text": [
            "Epoch 1/25\n",
            "629/629 [==============================] - ETA: 0s - loss: 4.3872\n",
            "generated text:\n",
            "recipe for 2x9 roasted tablespoons goat | oven against cut pressing juice , set , marinade and a a necessary in a inch shimmers \n",
            "\n",
            "629/629 [==============================] - 59s 88ms/step - loss: 4.3872\n",
            "Epoch 2/25\n",
            "628/629 [============================>.] - ETA: 0s - loss: 3.0601\n",
            "generated text:\n",
            "recipe for red pepper salad cheese | melt 4 ingredients in large bowl . let stand medium off sugar . prepare shells . roll dough all and preheat to grill or vogelmaier in dressing ; add parsley . * also s claws , 1 / 4 inch in a 13x9 weeks ahead . divide walnuts with processor . serve covered and chill . meanwhile yogurt peel generously barbecue metal sieve on a small 13 glass baking sheet . cut into baking sheet , then bake until hot , about 10 minutes to oven to 2 minutes . strain running over\n",
            "\n",
            "629/629 [==============================] - 31s 49ms/step - loss: 3.0600\n",
            "Epoch 3/25\n",
            "629/629 [==============================] - ETA: 0s - loss: 2.4891\n",
            "generated text:\n",
            "recipe for press turkey | cut pie sheet cut crosswise into paper . ) 3 tbsp \n",
            "\n",
            "629/629 [==============================] - 27s 42ms/step - loss: 2.4891\n",
            "Epoch 4/25\n",
            "629/629 [==============================] - ETA: 0s - loss: 2.2374\n",
            "generated text:\n",
            "recipe for combine fajitas | mix in chopped greens in medium bowl . toss with vinegar and 1 / 2 - quart metal bowl until puree melts , about 2 minutes . bake until brown brown , about 25 minutes . cool . let cool . add veal , to oil and coated . \n",
            "\n",
            "629/629 [==============================] - 29s 45ms/step - loss: 2.2374\n",
            "Epoch 5/25\n",
            "629/629 [==============================] - ETA: 0s - loss: 2.0900\n",
            "generated text:\n",
            "recipe for coconut - style portobello kale | 1 artichoke warm slices with chilies for about 4 minutes for medium - or until flake ; \n",
            "\n",
            "629/629 [==============================] - 28s 44ms/step - loss: 2.0900\n",
            "Epoch 6/25\n",
            "629/629 [==============================] - ETA: 0s - loss: 1.9935\n",
            "generated text:\n",
            "recipe for minted roll , baked baby loin on blood barbecue butter | cut chicken into leeks and press all sides on each plate . do not smooth cake husks and refrigerate at least 1 hour . bake in oven until onions are just tender , about 15 minutes . drain tomatoes and their accumulated atop garlic and sides . using electric mixer , beat just until stiff and peaks light glossy . gently beat in flour until smooth but almost smooth after to 3 minutes . gradually add broccoli paste . strain mixture into 6 \" ( discard any\n",
            "\n",
            "629/629 [==============================] - 31s 50ms/step - loss: 1.9935\n",
            "Epoch 7/25\n",
            "629/629 [==============================] - ETA: 0s - loss: 1.9228\n",
            "generated text:\n",
            "recipe for venison with giblets , bell pepper , beef , and feta | preheat oven to 2 ( its resistance by inches from heat over medium - high heat ) , then break into 1 / 4 - inch pieces , then without score sacs . carefully remove shells from heat and let steak from heat . while mango cools , cool enough hot cupcakes to room temperature , or serve chestnuts . serve warm beans with ice water and tie will be pink refrigerated . this salsa can * buttery available 2 weeks per side chilled . in\n",
            "\n",
            "629/629 [==============================] - 32s 50ms/step - loss: 1.9228\n",
            "Epoch 8/25\n",
            "628/629 [============================>.] - ETA: 0s - loss: 1.8669\n",
            "generated text:\n",
            "recipe for poached onion [UNK] | place chicken on prepared paper . brush foil with 3 1 / 4 pieces to each neck ; bake until cheese springs spoon , turning occasionally , turning every 10 minutes for 10 minutes , until panko is soft . transfer crackers to rack in pan and drain . return water to plate ; cover loosely with cold water . boil until slightly thickened , about 4 minutes . increase heat to medium metal skillet ; cover . add lamb , bell pepper , baking powder , and remaining 2 tablespoons oil and simmer\n",
            "\n",
            "629/629 [==============================] - 32s 51ms/step - loss: 1.8668\n",
            "Epoch 9/25\n",
            "629/629 [==============================] - ETA: 0s - loss: 1.8211\n",
            "generated text:\n",
            "recipe for end of asparagus with toasted sesame dressing and sage | preheat salmon . oil between 2 inch pieces . serve warm or in heavy salad . strain sauce ; season caraway pepper over . \n",
            "\n",
            "629/629 [==============================] - 28s 44ms/step - loss: 1.8211\n",
            "Epoch 10/25\n",
            "629/629 [==============================] - ETA: 0s - loss: 1.7830\n",
            "generated text:\n",
            "recipe for halibut cake with parmesan and crab topping | position oven rack in middle position and preheat oven to 350°f . toss for 1 30 minutes , or freshly ground black pepper . slowly open and pat bread dry . drizzle with 1 mushrooms to the baking dish and season with salt and pepper ; add enough water to cover filling with a parchment . put pork between 2 buttered resealable plastic ; chill at room temperature 30 minutes . serve tuna with potatoes . \n",
            "\n",
            "629/629 [==============================] - 31s 50ms/step - loss: 1.7830\n",
            "Epoch 11/25\n",
            "628/629 [============================>.] - ETA: 0s - loss: 1.7507\n",
            "generated text:\n",
            "recipe for green red pepper chess smoothie | trim remainder , pit each wrap , then peel roots , including the grain into pieces . preheat the oven to 500°f . serve the warm , lettuce , scallions , and white remaining 1 tablespoon fresh stilton leaves and avocado leaves and garnish . slice radish , oregano sprigs , lemon slices ( mint easier 1 / 2 - inch ) ( such as very 1 / 2 drops ) , discarding water in the sieve set over a bowl and place in bowl with a small cup , the tofu\n",
            "\n",
            "629/629 [==============================] - 31s 49ms/step - loss: 1.7506\n",
            "Epoch 12/25\n",
            "628/629 [============================>.] - ETA: 0s - loss: 1.7228\n",
            "generated text:\n",
            "recipe for strawberries with lime and almond syrup | whisk soy sugar , oil , cornstarch , cornstarch , water , and vanilla in medium bowl to blend . whisk eggs through feed tube additions . gather pastry in beaten egg mixture ; knead until dough ball thickens , about 6 minutes . bake cookies until tender , about 5 minutes . cool completely . transfer mixture to bowl slightly . beat chard molasses tart in large bowl until golden and crisp - golden , about 9 minutes . divide mangoes between dish ; mounding slightly completely . freeze until\n",
            "\n",
            "629/629 [==============================] - 32s 51ms/step - loss: 1.7226\n",
            "Epoch 13/25\n",
            "629/629 [==============================] - ETA: 0s - loss: 1.6985\n",
            "generated text:\n",
            "recipe for [UNK] whipped - glazed pork | in a blender sprinkle the sugar on a large bowl with the marinade . when the sauce returns to a simmer well in 3 / 8 - quart saucepan , stir with 1 / 2 cup soy sauce , and simmer the mixture , covered , for 20 to 30 minutes , or until it becomes thick , drain , and let it cool . and pour the goat cheese into a large nonstick saucepan and add eggs . adjust the pork to good stock and continue to cook until around the\n",
            "\n",
            "629/629 [==============================] - 31s 50ms/step - loss: 1.6985\n",
            "Epoch 14/25\n",
            "629/629 [==============================] - ETA: 0s - loss: 1.6769\n",
            "generated text:\n",
            "recipe for yogurt - crusted portobello avocado stuffed chili | place oil in processor . mix all cornstarch mixture and cashews into 2 food processor with puree flour . process until dough is smooth . reduce heat to medium - low , then add all remaining ingredients to blend . gradually toss 8 ingredients until well blended . drizzle dressing over cabbage mixture . season with salt and pepper . \n",
            "\n",
            "629/629 [==============================] - 29s 47ms/step - loss: 1.6769\n",
            "Epoch 15/25\n",
            "629/629 [==============================] - ETA: 0s - loss: 1.6574\n",
            "generated text:\n",
            "recipe for sauteed turkey shoulder | heat oil in a large stockpot over medium - high heat . cook pork until browned and crisp , about 5 minutes ; transfer to another bowl and add to bowl with liquid back . steam pasta and onion and garlic until crisp - tender , 25 - 30 seconds . drain well well in cooking liquid ; use oil to 375° . for a small winglass and roll down ( a sure you go to form a rectangle ) . place a piece of plastic wrap and divide points between rim ( about\n",
            "\n",
            "629/629 [==============================] - 32s 51ms/step - loss: 1.6574\n",
            "Epoch 16/25\n",
            "629/629 [==============================] - ETA: 0s - loss: 1.6418\n",
            "generated text:\n",
            "recipe for brown cheese gravy | preheat oven to 375°f . arrange corn bread in 6 - lined baking pan ; let stand until tender but not dry . remove from flame . slip cabbage into sheets . grill until just set , about 3 minutes per layer , from skewers , then press set on the skillet . divide among 4 slices and sprinkle with salt and pepper , then cook until lightly browned , about 2 minutes per side . trim a skewer ; immediately turn off turnips , reserving remaining lobsters for another use . return chicken\n",
            "\n",
            "629/629 [==============================] - 31s 49ms/step - loss: 1.6418\n",
            "Epoch 17/25\n",
            "628/629 [============================>.] - ETA: 0s - loss: 1.6242\n",
            "generated text:\n",
            "recipe for spring pearl italian mountain | in a pinwheel boiler or a food mill or sieve set over a large bowl . stir in butter and pecans . using a mandoline , purée mint on both sides with some of spice grinder or a microwave - safe bowl , then press briefly into a small serving . fold salmon flat , semolina strips , and chill 1 day of sautéed covered in middle of each dish , covered and chilled , turning halfway up sides of side with a metal spatula to prevent once . preheat oven to 350°f\n",
            "\n",
            "629/629 [==============================] - 32s 51ms/step - loss: 1.6243\n",
            "Epoch 18/25\n",
            "628/629 [============================>.] - ETA: 0s - loss: 1.6097\n",
            "generated text:\n",
            "recipe for canton butternut squash stuffed with caraway seeds | pat tomatoes with head ( the biscuit rind ) first 5 ingredients . pat breasts dry and arrange in 1 layer . cook pancetta in a skillet over high heat , stirring occasionally , until fragrant and coated , 8 to 10 minutes . transfer potatoes to a platter . pour oil through a fine - mesh sieve into a large bowl , pressing on solids . spoon oil into a clean - thin skillet ( you may have very [UNK] pea ) . while garlic is dried tomatoes ,\n",
            "\n",
            "629/629 [==============================] - 31s 49ms/step - loss: 1.6095\n",
            "Epoch 19/25\n",
            "629/629 [==============================] - ETA: 0s - loss: 1.5957\n",
            "generated text:\n",
            "recipe for crunchy lamb salad with celery and lemon | puree the shrimp in a blender until smooth . drop through a fine - mesh sieve into a glass measuring cup glass . use microgreens in blender . blend in the sauerkraut , the basil , tomato sauce , and cilantro . cover and refrigerate up to jar . strain this , then press the screw bands pulp snugly on the diagonal to layer as it tastes doneness , about 3 minutes , then combine the remaining 2 tablespoon oil and 2 tablespoons extra virgin olive oil . in a\n",
            "\n",
            "629/629 [==============================] - 32s 51ms/step - loss: 1.5957\n",
            "Epoch 20/25\n",
            "629/629 [==============================] - ETA: 0s - loss: 1.5833\n",
            "generated text:\n",
            "recipe for dried cherry vegetables with creamy cardamom syrup | heat butter in large nonstick skillet over medium heat . 3 . heat 5 - inch griddle over medium heat until thermometer registers 375°f . add egg mixture , oil , and remaining shallots ; stir until dissolved and before using , stir in enough cream . using electric mixer , beat butter and cumin in medium bowl . mix in next at a pitcher ; toss . whisk in layer of bread juices , crème fraîche , grated cheese , 1 / 2 cup dried - cheese mixture ,\n",
            "\n",
            "629/629 [==============================] - 31s 50ms/step - loss: 1.5833\n",
            "Epoch 21/25\n",
            "629/629 [==============================] - ETA: 0s - loss: 1.5714\n",
            "generated text:\n",
            "recipe for soy and red - glazed beets | in a small bowl soak the bread in lightly warm water for 10 minutes . line a colander , and set aside . rub the butter as needed , and mix well . in a large heavy skillet stir together the onion , the seasoning spice , the onion , and garlic until the apples are tender but not browned in 2 1 / 2 or 2 1 / 4 inches from heat . meanwhile , heat heavy large skillet over medium - high heat until the fat is reduced by\n",
            "\n",
            "629/629 [==============================] - 32s 51ms/step - loss: 1.5714\n",
            "Epoch 22/25\n",
            "629/629 [==============================] - ETA: 0s - loss: 1.5607\n",
            "generated text:\n",
            "recipe for chicken and short ribs with black pepper vinaigrette | in a mixing bowl drain the cut flour and crumble in the egg mixture . toss the dressing with a dry ingredients to soften . 2 . in a small bowl stir together the paste and the caraway . gradually whisk in the olive oil . push any quail on a spatula , about wider slices , then dip the side down . brush each baguette crêpe with extra - garlic powder . grill the rub 1 / 2 inch over the ricotta mixture , coating them just until\n",
            "\n",
            "629/629 [==============================] - 31s 50ms/step - loss: 1.5607\n",
            "Epoch 23/25\n",
            "629/629 [==============================] - ETA: 0s - loss: 1.5503\n",
            "generated text:\n",
            "recipe for marshmallow sticky charred rice | in a large roasting pan , spread leaves and thickness of the squash slices and arrange in the pan . serve with squash and corn and parsley in the salt . in a large purée pan and toast the tomato mixture in the spices , stirring occasionally , or until the onion is soft lightly glazed , add the butter , tomatoes , mustard , and salt and mash red - pepper flakes with a fork until smooth and with the motor add a pinch of salt , still with a fork ,\n",
            "\n",
            "629/629 [==============================] - 32s 51ms/step - loss: 1.5503\n",
            "Epoch 24/25\n",
            "629/629 [==============================] - ETA: 0s - loss: 1.5422\n",
            "generated text:\n",
            "recipe for chilled - [UNK] meatballs with marinated onions | 1 . preheat the oven to 450°f . in a medium bowl , combine both flours , baking powder and salt . add 3 / 4 cup water and stir everything until tartar and the vanilla seeds are aromatic and fragrant , about 1 minute . add the almonds and stir , blending until almonds are very tender . mix in the eggs , the cream cheese , and salt and smooth . in a small bowl stir together the butter , the herbs , the lemon juice , the\n",
            "\n",
            "629/629 [==============================] - 31s 49ms/step - loss: 1.5422\n",
            "Epoch 25/25\n",
            "628/629 [============================>.] - ETA: 0s - loss: 1.5313\n",
            "generated text:\n",
            "recipe for blackberry conserve | combine the chocolate , baking powder , and allspice to smooth paste . add the ice water , and a few drops of the lemons to taste , beating until the mixer pop . 2 . add the vanilla extract as much liquid as possible for another use . grate 2 tablespoons of coffee sorbet or roughly 1 cup of the core . add the sugar to a bowl with the raisins , cinnamon stick , and salt to the bowl and reserve the fruit for 15 . repeat . sift the outside of the\n",
            "\n",
            "629/629 [==============================] - 32s 51ms/step - loss: 1.5315\n"
          ]
        },
        {
          "output_type": "execute_result",
          "data": {
            "text/plain": [
              "<keras.src.callbacks.History at 0x7e3aa716d390>"
            ]
          },
          "metadata": {},
          "execution_count": 22
        }
      ],
      "source": [
        "lstm.fit(\n",
        "    train_ds,\n",
        "    epochs=EPOCHS,\n",
        "    callbacks=[model_checkpoint_callback, tensorboard_callback, text_generator],\n",
        ")"
      ]
    },
    {
      "cell_type": "code",
      "execution_count": 23,
      "id": "369bde44-2e39-4bc6-8549-a3a27ecce55c",
      "metadata": {
        "tags": [],
        "id": "369bde44-2e39-4bc6-8549-a3a27ecce55c"
      },
      "outputs": [],
      "source": [
        "# Save the final model\n",
        "lstm.save(\"./models/lstm\")"
      ]
    },
    {
      "cell_type": "markdown",
      "id": "d64e02d2-84dc-40c8-8446-40c09adf1e20",
      "metadata": {
        "id": "d64e02d2-84dc-40c8-8446-40c09adf1e20"
      },
      "source": [
        "## 6. Generate text using the LSTM"
      ]
    },
    {
      "cell_type": "code",
      "execution_count": 24,
      "id": "4ad23adb-3ec9-4e9a-9a59-b9f9bafca649",
      "metadata": {
        "id": "4ad23adb-3ec9-4e9a-9a59-b9f9bafca649"
      },
      "outputs": [],
      "source": [
        "def print_probs(info, vocab, top_k=5):\n",
        "    for i in info:\n",
        "        print(f\"\\nPROMPT: {i['prompt']}\")\n",
        "        word_probs = i[\"word_probs\"]\n",
        "        p_sorted = np.sort(word_probs)[::-1][:top_k]\n",
        "        i_sorted = np.argsort(word_probs)[::-1][:top_k]\n",
        "        for p, i in zip(p_sorted, i_sorted):\n",
        "            print(f\"{vocab[i]}:   \\t{np.round(100*p,2)}%\")\n",
        "        print(\"--------\\n\")"
      ]
    },
    {
      "cell_type": "code",
      "execution_count": 25,
      "id": "3cf25578-d47c-4b26-8252-fcdf2316a4ac",
      "metadata": {
        "id": "3cf25578-d47c-4b26-8252-fcdf2316a4ac",
        "outputId": "e911ab09-8d5d-4102-b507-d9e20a347d40",
        "colab": {
          "base_uri": "https://localhost:8080/"
        }
      },
      "outputs": [
        {
          "output_type": "stream",
          "name": "stdout",
          "text": [
            "\n",
            "generated text:\n",
            "recipe for roasted vegetables | chop 1 / 2 cup\n",
            "\n"
          ]
        }
      ],
      "source": [
        "info = text_generator.generate(\n",
        "    \"recipe for roasted vegetables | chop 1 /\", max_tokens=10, temperature=1.0\n",
        ")"
      ]
    },
    {
      "cell_type": "code",
      "execution_count": 26,
      "id": "9df72866-b483-4489-8e26-d5e1466410fa",
      "metadata": {
        "tags": [],
        "id": "9df72866-b483-4489-8e26-d5e1466410fa",
        "outputId": "ab081771-5418-42af-f77b-0a4bb4622ecc",
        "colab": {
          "base_uri": "https://localhost:8080/"
        }
      },
      "outputs": [
        {
          "output_type": "stream",
          "name": "stdout",
          "text": [
            "\n",
            "PROMPT: recipe for roasted vegetables | chop 1 /\n",
            "2:   \t42.45%\n",
            "4:   \t39.95%\n",
            "3:   \t11.42%\n",
            "8:   \t2.72%\n",
            "1:   \t0.67%\n",
            "--------\n",
            "\n",
            "\n",
            "PROMPT: recipe for roasted vegetables | chop 1 / 2\n",
            "cup:   \t77.44%\n",
            "teaspoon:   \t6.76%\n",
            "tablespoon:   \t3.01%\n",
            "inch:   \t2.66%\n",
            "tsp:   \t1.66%\n",
            "--------\n",
            "\n"
          ]
        }
      ],
      "source": [
        "print_probs(info, vocab)"
      ]
    },
    {
      "cell_type": "code",
      "execution_count": 27,
      "id": "562e1fe8-cbcb-438f-9637-2f2a6279c924",
      "metadata": {
        "id": "562e1fe8-cbcb-438f-9637-2f2a6279c924",
        "outputId": "b3839f73-e83e-4866-e9b1-700e64a8ac53",
        "colab": {
          "base_uri": "https://localhost:8080/"
        }
      },
      "outputs": [
        {
          "output_type": "stream",
          "name": "stdout",
          "text": [
            "\n",
            "generated text:\n",
            "recipe for roasted vegetables | chop 1 / 4 cup\n",
            "\n"
          ]
        }
      ],
      "source": [
        "info = text_generator.generate(\n",
        "    \"recipe for roasted vegetables | chop 1 /\", max_tokens=10, temperature=0.2\n",
        ")"
      ]
    },
    {
      "cell_type": "code",
      "execution_count": 28,
      "id": "56356f21-04ac-40e5-94ff-291eca6a7054",
      "metadata": {
        "id": "56356f21-04ac-40e5-94ff-291eca6a7054",
        "outputId": "7c9a8d11-03e7-48fa-ef72-e9813197bfc1",
        "colab": {
          "base_uri": "https://localhost:8080/"
        }
      },
      "outputs": [
        {
          "output_type": "stream",
          "name": "stdout",
          "text": [
            "\n",
            "PROMPT: recipe for roasted vegetables | chop 1 /\n",
            "2:   \t57.5%\n",
            "4:   \t42.42%\n",
            "3:   \t0.08%\n",
            "8:   \t0.0%\n",
            "1:   \t0.0%\n",
            "--------\n",
            "\n",
            "\n",
            "PROMPT: recipe for roasted vegetables | chop 1 / 4\n",
            "cup:   \t100.0%\n",
            "teaspoon:   \t0.0%\n",
            "of:   \t0.0%\n",
            "inch:   \t0.0%\n",
            "tsp:   \t0.0%\n",
            "--------\n",
            "\n"
          ]
        }
      ],
      "source": [
        "print_probs(info, vocab)"
      ]
    },
    {
      "cell_type": "code",
      "execution_count": 29,
      "id": "2e434497-07f3-4989-a68d-3e31cf8fa4fe",
      "metadata": {
        "id": "2e434497-07f3-4989-a68d-3e31cf8fa4fe",
        "outputId": "fefc6c61-0439-40c2-9ca6-d89a8c660892",
        "colab": {
          "base_uri": "https://localhost:8080/"
        }
      },
      "outputs": [
        {
          "output_type": "stream",
          "name": "stdout",
          "text": [
            "\n",
            "generated text:\n",
            "recipe for chocolate ice cream | 1\n",
            "\n",
            "\n",
            "PROMPT: recipe for chocolate ice cream |\n",
            "in:   \t12.71%\n",
            "bring:   \t12.59%\n",
            "combine:   \t11.88%\n",
            "1:   \t6.9%\n",
            "preheat:   \t6.38%\n",
            "--------\n",
            "\n"
          ]
        }
      ],
      "source": [
        "info = text_generator.generate(\n",
        "    \"recipe for chocolate ice cream |\", max_tokens=7, temperature=1.0\n",
        ")\n",
        "print_probs(info, vocab)"
      ]
    },
    {
      "cell_type": "code",
      "execution_count": 30,
      "id": "011cd0e0-956c-4a63-8ec3-f7dfed31764e",
      "metadata": {
        "id": "011cd0e0-956c-4a63-8ec3-f7dfed31764e",
        "outputId": "2c0b9de1-e321-4aef-ec44-774df33c8731",
        "colab": {
          "base_uri": "https://localhost:8080/"
        }
      },
      "outputs": [
        {
          "output_type": "stream",
          "name": "stdout",
          "text": [
            "\n",
            "generated text:\n",
            "recipe for chocolate ice cream | in\n",
            "\n",
            "\n",
            "PROMPT: recipe for chocolate ice cream |\n",
            "in:   \t36.16%\n",
            "bring:   \t34.56%\n",
            "combine:   \t25.85%\n",
            "1:   \t1.7%\n",
            "preheat:   \t1.15%\n",
            "--------\n",
            "\n"
          ]
        }
      ],
      "source": [
        "info = text_generator.generate(\n",
        "    \"recipe for chocolate ice cream |\", max_tokens=7, temperature=0.2\n",
        ")\n",
        "print_probs(info, vocab)"
      ]
    },
    {
      "cell_type": "code",
      "source": [],
      "metadata": {
        "id": "wydRXKszBgxD"
      },
      "id": "wydRXKszBgxD",
      "execution_count": null,
      "outputs": []
    }
  ],
  "metadata": {
    "kernelspec": {
      "display_name": "Python 3",
      "name": "python3"
    },
    "language_info": {
      "codemirror_mode": {
        "name": "ipython",
        "version": 3
      },
      "file_extension": ".py",
      "mimetype": "text/x-python",
      "name": "python",
      "nbconvert_exporter": "python",
      "pygments_lexer": "ipython3",
      "version": "3.8.10"
    },
    "colab": {
      "provenance": [],
      "gpuType": "T4"
    },
    "accelerator": "GPU"
  },
  "nbformat": 4,
  "nbformat_minor": 5
}